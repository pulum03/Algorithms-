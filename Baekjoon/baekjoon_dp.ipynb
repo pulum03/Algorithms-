{
 "cells": [
  {
   "cell_type": "code",
   "execution_count": 15,
   "metadata": {},
   "outputs": [
    {
     "name": "stdout",
     "output_type": "stream",
     "text": [
      "[0, 0, 0, 0, 0, 0, 0, 0, 0, 0, 0]\n",
      "[0, 0, 1, 0, 0, 0, 0, 0, 0, 0, 0]\n",
      "0\n",
      "[0, 0, 1, 0, 0, 0, 0, 0, 0, 0, 0]\n",
      "[0, 0, 1, 1, 0, 0, 0, 0, 0, 0, 0]\n",
      "0\n",
      "[0, 0, 1, 1, 0, 0, 0, 0, 0, 0, 0]\n",
      "[0, 0, 1, 1, 2, 0, 0, 0, 0, 0, 0]\n",
      "0\n",
      "[0, 0, 1, 1, 2, 0, 0, 0, 0, 0, 0]\n",
      "[0, 0, 1, 1, 2, 3, 0, 0, 0, 0, 0]\n",
      "0\n",
      "[0, 0, 1, 1, 2, 3, 0, 0, 0, 0, 0]\n",
      "[0, 0, 1, 1, 2, 3, 2, 0, 0, 0, 0]\n",
      "0\n",
      "[0, 0, 1, 1, 2, 3, 2, 0, 0, 0, 0]\n",
      "[0, 0, 1, 1, 2, 3, 2, 3, 0, 0, 0]\n",
      "0\n",
      "[0, 0, 1, 1, 2, 3, 2, 3, 0, 0, 0]\n",
      "[0, 0, 1, 1, 2, 3, 2, 3, 3, 0, 0]\n",
      "0\n",
      "[0, 0, 1, 1, 2, 3, 2, 3, 3, 0, 0]\n",
      "[0, 0, 1, 1, 2, 3, 2, 3, 3, 2, 0]\n",
      "0\n",
      "[0, 0, 1, 1, 2, 3, 2, 3, 3, 2, 0]\n",
      "[0, 0, 1, 1, 2, 3, 2, 3, 3, 2, 3]\n",
      "3\n"
     ]
    }
   ],
   "source": [
    "# 1463 : 1로 만들기\n",
    "\n",
    "#정수 X에 사용할 수 있는 연산은 다음과 같이 세 가지 이다.\n",
    "\n",
    "#X가 3으로 나누어 떨어지면, 3으로 나눈다.\n",
    "\n",
    "#X가 2로 나누어 떨어지면, 2로 나눈다.\n",
    "\n",
    "#1을 뺀다.\n",
    "\n",
    "#정수 N이 주어졌을 때, 위와 같은 연산 세 개를 적절히 사용해서 1을 만들려고 한다. \n",
    "\n",
    "#연산을 사용하는 횟수의 최솟값을 출력하시오.\n",
    "\n",
    "#n = int(input())\n",
    "n = 10\n",
    "arr = [0 for _ in range(n+1)]\n",
    "arr[1] = 0\n",
    "for i in range(2, n+1):\n",
    "    print(arr)\n",
    "    arr[i] = arr[i-1] + 1\n",
    "    if i % 2 == 0:\n",
    "        arr[i] = min(arr[i], arr[i//2]+1)\n",
    "    if i % 3 == 0:\n",
    "        arr[i] = min(arr[i], arr[i//3]+1)\n",
    "    print(arr)\n",
    "    print(arr[n])"
   ]
  },
  {
   "cell_type": "code",
   "execution_count": 27,
   "metadata": {},
   "outputs": [
    {
     "name": "stdout",
     "output_type": "stream",
     "text": [
      "[1, 2, 4, 7, 13, 24, 44, 81, 149, 274]\n",
      "274\n"
     ]
    }
   ],
   "source": [
    "# 9095 : 1,2,3 더하기\n",
    "\n",
    "# 정수 4를 1, 2, 3의 합으로 나타내는 방법은 총 7가지가 있다.\n",
    "\n",
    "# 합을 나타낼 때는 수를 1개 이상 사용해야 한다.\n",
    "\n",
    "# 1+1+1+1\n",
    "# 1+1+2\n",
    "# 1+2+1\n",
    "# 2+1+1\n",
    "# 2+2\n",
    "# 1+3\n",
    "# 3+1\n",
    "# 정수 n이 주어졌을 때, \n",
    "# n을 1, 2, 3의 합으로 나타내는 방법의 수를 구하는 프로그램을 작성하시오.\n",
    "\n",
    "input = 10\n",
    "\n",
    "# 정수 1일때는 1개의 경우의 수\n",
    "\n",
    "# 정수 2일때는 2개의 경우의 수\n",
    "\n",
    "# 정수 3일때는 4개의 경우의 수\n",
    "\n",
    "int_list = [1,2,4]\n",
    "\n",
    "for i in range(4,11):\n",
    "    int_list.append(sum(int_list[-3:]))\n",
    "    \n",
    "print(int_list)\n",
    "\n",
    "print(int_list[input-1])"
   ]
  },
  {
   "cell_type": "code",
   "execution_count": null,
   "metadata": {},
   "outputs": [],
   "source": []
  }
 ],
 "metadata": {
  "kernelspec": {
   "display_name": "Python 3",
   "language": "python",
   "name": "python3"
  },
  "language_info": {
   "codemirror_mode": {
    "name": "ipython",
    "version": 3
   },
   "file_extension": ".py",
   "mimetype": "text/x-python",
   "name": "python",
   "nbconvert_exporter": "python",
   "pygments_lexer": "ipython3",
   "version": "3.6.8"
  }
 },
 "nbformat": 4,
 "nbformat_minor": 4
}
