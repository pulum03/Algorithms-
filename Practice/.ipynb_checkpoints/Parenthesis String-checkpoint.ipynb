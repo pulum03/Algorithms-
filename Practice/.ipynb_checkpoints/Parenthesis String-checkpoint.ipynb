{
 "cells": [
  {
   "cell_type": "markdown",
   "metadata": {},
   "source": [
    "1. \n",
    "\n",
    "입력값\n",
    "\n",
    "-> 함수\n",
    "\n",
    "출력값\n",
    "\n",
    "\"{}\" -- True\n",
    "\n",
    "\"{}{\" -- False\n",
    "\n",
    "\"{}{}{}\" -- True\n",
    "\n",
    "\"{{}}\" -- True\n",
    "\n",
    "\"}{}{}{\" -- False\n",
    "\n",
    "\"}{}{}{}{}{}{\" - False\n",
    "\n",
    "\"{}{}{}{}{}{\" -- false\n",
    "\n",
    "\"{}{}{}{}{}\" -- Ture\n",
    "\n",
    "\"{{{}}\" -- True\n",
    "\n",
    "\"}{}{\"\n",
    "\n",
    "\"{}{\"\n",
    "\n",
    "\"}{}{}{}{\"\n",
    "\n",
    "\"{}{}{{}}\"\n",
    "\n",
    "\n",
    "\"{}}{\"\n",
    "\n",
    "\"{}}{{}\""
   ]
  },
  {
   "cell_type": "code",
   "execution_count": 4,
   "metadata": {},
   "outputs": [
    {
     "data": {
      "text/plain": [
       "'True'"
      ]
     },
     "execution_count": 4,
     "metadata": {},
     "output_type": "execute_result"
    }
   ],
   "source": [
    "# {}\n",
    "# {{}}\n",
    "# {{}}{\n",
    "\n",
    "test = \"{}{}{{}}\"\n",
    "\n",
    "def sol(l):\n",
    "    l = list(l)\n",
    "    while len(l) != 0:\n",
    "        if l[0] == \"}\":\n",
    "            return \"False\"\n",
    "        \n",
    "        else:\n",
    "            if '}' in l:\n",
    "                l.remove(\"{\")\n",
    "                l.remove(\"}\")\n",
    "            else:\n",
    "                return \"False\"\n",
    "\n",
    "    if len(l) == 0:\n",
    "        return \"True\"\n",
    "\n",
    "\n",
    "sol(test)"
   ]
  }
 ],
 "metadata": {
  "kernelspec": {
   "display_name": "Python 3",
   "language": "python",
   "name": "python3"
  },
  "language_info": {
   "codemirror_mode": {
    "name": "ipython",
    "version": 3
   },
   "file_extension": ".py",
   "mimetype": "text/x-python",
   "name": "python",
   "nbconvert_exporter": "python",
   "pygments_lexer": "ipython3",
   "version": "3.6.5"
  }
 },
 "nbformat": 4,
 "nbformat_minor": 2
}
