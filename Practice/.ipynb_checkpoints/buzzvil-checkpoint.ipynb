{
 "cells": [
  {
   "cell_type": "code",
   "execution_count": 28,
   "metadata": {},
   "outputs": [
    {
     "name": "stdout",
     "output_type": "stream",
     "text": [
      "None\n"
     ]
    }
   ],
   "source": [
    "def braces(values):\n",
    "    count = 0\n",
    "    anslist = []\n",
    "    for i in range(len(values)):\n",
    "        for v in values[i]:\n",
    "            if v == \"(\" or v == \"{\" or v == \"[\":\n",
    "                count += 1\n",
    "            elif v == \")\" or v == \"}\" or v == \"]\":\n",
    "                count -= 1\n",
    "                \n",
    "        if count == 0:\n",
    "            values[i] == \"YES\"\n",
    "        else:\n",
    "            values[i] == \"NO\"\n",
    "\n",
    "            \n",
    "\n",
    "values = [\"{}[]()\", \"{[}]}\"]\n"
   ]
  },
  {
   "cell_type": "code",
   "execution_count": 20,
   "metadata": {},
   "outputs": [
    {
     "ename": "SyntaxError",
     "evalue": "invalid syntax (<ipython-input-20-89854d282cc7>, line 10)",
     "output_type": "error",
     "traceback": [
      "\u001b[1;36m  File \u001b[1;32m\"<ipython-input-20-89854d282cc7>\"\u001b[1;36m, line \u001b[1;32m10\u001b[0m\n\u001b[1;33m    if current_parenthesis == '(' or current_parenthesis == :\u001b[0m\n\u001b[1;37m                                                            ^\u001b[0m\n\u001b[1;31mSyntaxError\u001b[0m\u001b[1;31m:\u001b[0m invalid syntax\n"
     ]
    }
   ],
   "source": [
    "def braces(values):\n",
    "    anslist=[]\n",
    "    for val in values:\n",
    "        blist = []\n",
    "        check=True\n",
    "        for v in val:\n",
    "            if v==\"(\" or v==\"{\" or v==\"[\":\n",
    "                blist.append(v)\n",
    "            else:\n",
    "                if not blist:\n",
    "                    check=False\n",
    "                    anslist.append(\"NO\")\n",
    "                    break\n",
    "                br = blist.pop()\n",
    "                \n",
    "                if br==\"(\" and v==\")\":\n",
    "                    pass\n",
    "                elif br==\"{\" and v==\"}\":\n",
    "                    pass\n",
    "                elif br==\"[\" and v==\"]\":\n",
    "                    pass\n",
    "                else:\n",
    "                    check=False\n",
    "                    anslist.append(\"NO\")\n",
    "                    break\n",
    "        if blist and check:\n",
    "            anslist.append(\"NO\")\n",
    "            continue\n",
    "        \n",
    "        if check:\n",
    "            anslist.append(\"YES\")\n",
    "    return anslist"
   ]
  },
  {
   "cell_type": "code",
   "execution_count": 33,
   "metadata": {},
   "outputs": [
    {
     "name": "stdout",
     "output_type": "stream",
     "text": [
      "a\n",
      "1\n",
      "b\n",
      "2\n",
      "c\n",
      "3\n",
      "ab\n",
      "5\n",
      "bc\n",
      "7\n",
      "abc\n",
      "10\n"
     ]
    }
   ],
   "source": [
    "def subString(Str,n): \n",
    "    count = 0\n",
    "    # Pick starting point \n",
    "    for Len in range(1,n + 1): \n",
    "          \n",
    "        # Pick ending point \n",
    "        for i in range(n - Len + 1): \n",
    "              \n",
    "            # Print characters from current \n",
    "            # starting point to current ending \n",
    "            # point.  \n",
    "            j = i + Len - 1\n",
    "  \n",
    "            for k in range(i,j + 1): \n",
    "                count += 1\n",
    "                print(Str[k],end=\"\")\n",
    "            print() \n",
    "            print(count)\n",
    "              \n",
    "# Driver program to test above function \n",
    "Str = \"abc\"\n",
    "subString(Str,len(Str)) \n",
    "  \n",
    "# This code is contributed by mohit kumar \n"
   ]
  },
  {
   "cell_type": "code",
   "execution_count": 34,
   "metadata": {},
   "outputs": [
    {
     "name": "stdout",
     "output_type": "stream",
     "text": [
      "[[5, 3, 2], [5, 3, 1], [5, 4, 2], [5, 4, 1], [5, 2, 1], [3, 2, 1], [4, 2, 1]]\n"
     ]
    }
   ],
   "source": [
    "prices = [[5,3,2]\n",
    "        ,[5,3,1]\n",
    "        ,[5,4,2]\n",
    "        ,[5,4,1]\n",
    "        ,[5,2,1]\n",
    "        ,[3,2,1]\n",
    "        ,[4,2,1]]\n",
    "\n",
    "# Complete the maxInversions function below.\n",
    "def maxInversions(prices):\n",
    "    anslist = []\n",
    "    \n",
    "    for p in prices:\n",
    "        n = len(p)\n",
    "        invcount = 0\n",
    "        for i in range(0, n-1):\n",
    "            for j in range(i+1, n):\n",
    "                if p[i] > p[j]:\n",
    "                    for k in range(j+1, n):\n",
    "                        if p[j] > p[k]:\n",
    "                            invcount += 1\n",
    "        anslist.append(invcount)\n",
    "    \n",
    "    return anslist "
   ]
  }
 ],
 "metadata": {
  "kernelspec": {
   "display_name": "Python 3",
   "language": "python",
   "name": "python3"
  },
  "language_info": {
   "codemirror_mode": {
    "name": "ipython",
    "version": 3
   },
   "file_extension": ".py",
   "mimetype": "text/x-python",
   "name": "python",
   "nbconvert_exporter": "python",
   "pygments_lexer": "ipython3",
   "version": "3.6.8"
  }
 },
 "nbformat": 4,
 "nbformat_minor": 4
}
