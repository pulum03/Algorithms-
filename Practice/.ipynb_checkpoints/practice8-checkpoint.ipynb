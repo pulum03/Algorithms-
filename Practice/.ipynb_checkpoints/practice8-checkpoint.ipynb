{
 "cells": [
  {
   "cell_type": "code",
   "execution_count": 108,
   "metadata": {},
   "outputs": [
    {
     "name": "stdout",
     "output_type": "stream",
     "text": [
      "[1, -1, -3]\n",
      "-1\n"
     ]
    }
   ],
   "source": [
    "# 120.triangle\n",
    "#triangle = [[2], [3,4], [6,5,7], [4,1,8,3]]\n",
    "triangle = [[-1], [2,3], [1,-1,-3]]\n",
    "t = triangle\n",
    "#print(t)\n",
    "tl = len(t)\n",
    "dp = t[-1]\n",
    "print(dp)\n",
    "\n",
    "for i in range(tl-2, -1, -1):\n",
    "    for j in range(i+1):\n",
    "        dp[i] = min(dp[j], dp[j+1]) + t[i][j]\n",
    "\n",
    "print(dp[0])"
   ]
  },
  {
   "cell_type": "code",
   "execution_count": 99,
   "metadata": {},
   "outputs": [
    {
     "name": "stdout",
     "output_type": "stream",
     "text": [
      "wl[0] =  a\n",
      "board[0] =  ['a', 'a']\n",
      "['a', 'a']\n",
      "wl[0] =  a\n",
      "board[0] =  ['a', 'a']\n",
      "['a']\n",
      "wl[0] =  a\n",
      "board[0] =  ['a', 'a']\n",
      "[]\n",
      "true\n"
     ]
    }
   ],
   "source": [
    "# 79. Word Search\n",
    "#board = [['A', 'B', 'C', 'E'], ['S', 'F', 'C', 'S'], ['A', 'D', 'E', 'E']]\n",
    "#word = \"ABCCED\"\n",
    "\n",
    "board = [['a', 'a']]\n",
    "word = \"aaa\"\n",
    "\n",
    "wl = list(word)\n",
    "\n",
    "for i in range(len(wl)): # worl list만큼 총 6번\n",
    "    for j in range(len(board)): # 3번\n",
    "            if not wl:\n",
    "                break\n",
    "                print(wl)\n",
    "            if wl[0] in board[j]:\n",
    "                print('wl[0] = ' ,wl[0])\n",
    "                print('board[%d] = '%(j) ,board[j])\n",
    "                del wl[0]\n",
    "                print(wl)\n",
    "\n",
    "if not wl:\n",
    "    print('true')\n",
    "else:\n",
    "    print('false')\n",
    "\n",
    "\n"
   ]
  },
  {
   "cell_type": "code",
   "execution_count": null,
   "metadata": {},
   "outputs": [],
   "source": [
    "# 581. Shortest Unsorted Continuous Subarray\n",
    "#num = [2, 6, 4, 8, 10, 9, 15]\n",
    "# output = 5\n",
    "snums = sorted(nums)\n",
    "idx = []\n",
    "if nums == snums:\n",
    "    return 0\n",
    "for i in range(len(nums)):\n",
    "    if snums[i] != nums[i]: # sorted nums 와 nums 비교\n",
    "        idx.append(i)\n",
    "return idx[-1]-idx[0]+1  # idx list중에서 최소인덱스에서 최대인덱스까지"
   ]
  },
  {
   "cell_type": "code",
   "execution_count": 104,
   "metadata": {},
   "outputs": [
    {
     "name": "stdout",
     "output_type": "stream",
     "text": [
      "Counter({2: 2, 0: 2, 1: 2})\n",
      "[0, 0, 1, 1, 2, 2]\n"
     ]
    }
   ],
   "source": [
    "# 75. Sort Colors\n",
    "from collections import Counter\n",
    "nums=[2,0,2,1,1,0]\n",
    "#output = [0,0,1,1,2,2]\n",
    "\n",
    "# quick sort 이용\n",
    "# def quick_sort(nums):\n",
    "#     #print(nums)\n",
    "#     if len(nums) <= 1:\n",
    "#         print(nums)\n",
    "#     pivot = nums[len(nums) // 2]\n",
    "#     #print(pivot)\n",
    "#     lesser_nums, equal_nums, greater_nums = [], [], []\n",
    "\n",
    "#     for n in nums:\n",
    "#         if n < pivot:\n",
    "#             lesser_nums.append(n)\n",
    "#             #print('lesser_nums=', lesser_nums)\n",
    "#         elif n > pivot:\n",
    "#             greater_nums.append(n)\n",
    "#             #print('greater_nums=', greater_nums)\n",
    "#         else:\n",
    "#             equal_nums.append(n)\n",
    "#             #print('equal_nums=', equal_nums)\n",
    "    \n",
    "#     print(lesser_nums+equal_nums+greater_nums)\n",
    "    \n",
    "# quick_sort(nums)\n",
    "\n"
   ]
  },
  {
   "cell_type": "code",
   "execution_count": 105,
   "metadata": {},
   "outputs": [
    {
     "name": "stdout",
     "output_type": "stream",
     "text": [
      "Counter({2: 2, 0: 2, 1: 2})\n",
      "[0, 0, 1, 1, 2, 2]\n"
     ]
    }
   ],
   "source": [
    "# 75. Sort Colors\n",
    "from collections import Counter\n",
    "nums=[2,0,2,1,1,0]\n",
    "\n",
    "count = Counter(nums)\n",
    "print(count)\n",
    "\n",
    "\n",
    "for i in range(len(nums)):\n",
    "    \n",
    "    if i < count[0]:\n",
    "        nums[i] = 0\n",
    "    \n",
    "    elif i < count[0] + count[1]:\n",
    "        nums[i] = 1\n",
    "    \n",
    "    else:\n",
    "        nums[i] = 2\n",
    "        \n",
    "print(nums)"
   ]
  }
 ],
 "metadata": {
  "kernelspec": {
   "display_name": "Python 3",
   "language": "python",
   "name": "python3"
  },
  "language_info": {
   "codemirror_mode": {
    "name": "ipython",
    "version": 3
   },
   "file_extension": ".py",
   "mimetype": "text/x-python",
   "name": "python",
   "nbconvert_exporter": "python",
   "pygments_lexer": "ipython3",
   "version": "3.6.8"
  }
 },
 "nbformat": 4,
 "nbformat_minor": 4
}
