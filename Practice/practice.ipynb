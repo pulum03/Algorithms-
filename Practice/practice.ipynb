{
 "cells": [
  {
   "cell_type": "code",
   "execution_count": 11,
   "metadata": {},
   "outputs": [
    {
     "ename": "SyntaxError",
     "evalue": "invalid syntax (<ipython-input-11-c1a1d8de483f>, line 6)",
     "output_type": "error",
     "traceback": [
      "\u001b[1;36m  File \u001b[1;32m\"<ipython-input-11-c1a1d8de483f>\"\u001b[1;36m, line \u001b[1;32m6\u001b[0m\n\u001b[1;33m    for(i in 2:len(nums)):\u001b[0m\n\u001b[1;37m              ^\u001b[0m\n\u001b[1;31mSyntaxError\u001b[0m\u001b[1;31m:\u001b[0m invalid syntax\n"
     ]
    }
   ],
   "source": [
    "nums = [100,4,200,1,3,2]\n",
    "ans = []\n",
    "minnum = min(nums)\n",
    "ans.append(minnum)\n",
    "\n",
    "for(i in 2:len(nums)):\n",
    "    if(minnum +1 != None):\n",
    "        ans[i] = minnums + 1\n",
    "        minnums = minnum + 1\n",
    "\n",
    "print()"
   ]
  },
  {
   "cell_type": "code",
   "execution_count": 24,
   "metadata": {},
   "outputs": [
    {
     "ename": "SyntaxError",
     "evalue": "'return' outside function (<ipython-input-24-125429a2c968>, line 16)",
     "output_type": "error",
     "traceback": [
      "\u001b[1;36m  File \u001b[1;32m\"<ipython-input-24-125429a2c968>\"\u001b[1;36m, line \u001b[1;32m16\u001b[0m\n\u001b[1;33m    return True\u001b[0m\n\u001b[1;37m    ^\u001b[0m\n\u001b[1;31mSyntaxError\u001b[0m\u001b[1;31m:\u001b[0m 'return' outside function\n"
     ]
    }
   ],
   "source": [
    "matrix = [\n",
    "  [1,   4,  7, 11, 15],\n",
    "  [2,   5,  8, 12, 19],\n",
    "  [3,   6,  9, 16, 22],\n",
    "  [10, 13, 14, 17, 24],\n",
    "  [18, 21, 23, 26, 30]\n",
    "]\n",
    "\n",
    "if matrix:\n",
    "    r = 0\n",
    "    c = len(matrix) - 1\n",
    "    val = matrix[r][c]\n",
    "    while r < len(matrix) and c >= 0:\n",
    "        \n",
    "        if val == target:\n",
    "            return True\n",
    "        elif val > target:\n",
    "            c -= 1\n",
    "        else:\n",
    "            r += 1\n",
    "    return False\n",
    "\n"
   ]
  },
  {
   "cell_type": "code",
   "execution_count": 32,
   "metadata": {},
   "outputs": [
    {
     "name": "stdout",
     "output_type": "stream",
     "text": [
      "No Unique Character Found!\n",
      "No Unique Character Found!\n",
      "First non-repeating character is:  v\n"
     ]
    }
   ],
   "source": [
    "s = \"loveleetcode\"\n",
    "while s != \"\":\n",
    "    slen0 = len(s)\n",
    "    ch = s[0]\n",
    "    s = s.replace(ch, \"\")\n",
    "    slen1 = len(s)\n",
    "    if slen1 == slen0-1:\n",
    "        print(\"First non-repeating character is: \",ch)\n",
    "        break;\n",
    "    else:\n",
    "        print(\"No Unique Character Found!\")"
   ]
  },
  {
   "cell_type": "code",
   "execution_count": 36,
   "metadata": {},
   "outputs": [
    {
     "name": "stdout",
     "output_type": "stream",
     "text": [
      "i는 0\n",
      "j는 5\n",
      "i는 0\n",
      "j는 4\n",
      "i는 0\n",
      "j는 3\n",
      "i는 0\n",
      "j는 2\n",
      "i는 0\n",
      "j는 1\n",
      "i는 1\n",
      "j는 5\n",
      "i는 1\n",
      "j는 4\n",
      "i는 1\n",
      "j는 3\n",
      "i는 1\n",
      "j는 2\n",
      "i는 2\n",
      "j는 5\n",
      "i는 2\n",
      "j는 4\n",
      "i는 2\n",
      "j는 3\n",
      "i는 3\n",
      "j는 5\n",
      "i는 3\n",
      "j는 4\n",
      "i는 4\n",
      "j는 5\n"
     ]
    }
   ],
   "source": [
    "s = \"abssb\"\n",
    "for i in range(len(s)):\n",
    "    for j in range(len(s),i,-1):\n",
    "        print('i는', i)\n",
    "        print('j는', j)"
   ]
  },
  {
   "cell_type": "code",
   "execution_count": 41,
   "metadata": {},
   "outputs": [
    {
     "name": "stdout",
     "output_type": "stream",
     "text": [
      "1\n",
      "1\n",
      "0\n"
     ]
    }
   ],
   "source": [
    "s = \"abcde\"\n",
    "for i in range(len(s)//2):\n",
    "    if s[i] != s[len(s) - (i + 1)]:\n",
    "        print(1)\n",
    "print(0)"
   ]
  },
  {
   "cell_type": "code",
   "execution_count": 55,
   "metadata": {},
   "outputs": [
    {
     "ename": "SyntaxError",
     "evalue": "invalid syntax (<ipython-input-55-813cdc781b96>, line 13)",
     "output_type": "error",
     "traceback": [
      "\u001b[1;36m  File \u001b[1;32m\"<ipython-input-55-813cdc781b96>\"\u001b[1;36m, line \u001b[1;32m13\u001b[0m\n\u001b[1;33m    print([i:j][::-1])\u001b[0m\n\u001b[1;37m            ^\u001b[0m\n\u001b[1;31mSyntaxError\u001b[0m\u001b[1;31m:\u001b[0m invalid syntax\n"
     ]
    }
   ],
   "source": [
    "        s = \"babad\"\n",
    "#         if len(s) <= 1:\n",
    "#             return s\n",
    "        i,l=0,0\n",
    "        for j in range(len(s)):\n",
    "            if s[j-l: j+1] == s[j-l: j+1][::-1]:\n",
    "                i, l = j-l, l+1\n",
    "                # print(s[i: i+l])\n",
    "            elif j-l > 0 and s[j-l-1: j+1] == s[j-l-1: j+1][::-1]:\n",
    "                i, l = j-l-1, l+2\n",
    "                # print(s[i: i+l])\n",
    "        print(s[i: i+l])\n",
    "        print([i:j][::-1])"
   ]
  },
  {
   "cell_type": "code",
   "execution_count": 47,
   "metadata": {},
   "outputs": [
    {
     "name": "stdout",
     "output_type": "stream",
     "text": [
      "5\n"
     ]
    }
   ],
   "source": [
    "nums = [5, 4, 200, 1, 3, 2]\n",
    "ans = 0\n",
    "for n in nums:\n",
    "    if n - 1 not in nums:\n",
    "        m = n\n",
    "        while m in nums:\n",
    "            m += 1\n",
    "        ans = max(ans, m-n)\n",
    "        \n",
    "print(ans)"
   ]
  },
  {
   "cell_type": "code",
   "execution_count": null,
   "metadata": {},
   "outputs": [],
   "source": [
    "s = \"babad\"\n",
    "L, R = 0, len(s)\n",
    "\n",
    "def expand(left, right):\n",
    "    while L <= left and right < R and s[left] == s[right]:\n",
    "        left -= 1\n",
    "        right += 1\n",
    "    return right - left -1\n",
    "ans = ''\n"
   ]
  }
 ],
 "metadata": {
  "kernelspec": {
   "display_name": "Python 3",
   "language": "python",
   "name": "python3"
  },
  "language_info": {
   "codemirror_mode": {
    "name": "ipython",
    "version": 3
   },
   "file_extension": ".py",
   "mimetype": "text/x-python",
   "name": "python",
   "nbconvert_exporter": "python",
   "pygments_lexer": "ipython3",
   "version": "3.6.8"
  }
 },
 "nbformat": 4,
 "nbformat_minor": 2
}
