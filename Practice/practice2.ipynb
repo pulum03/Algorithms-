{
 "cells": [
  {
   "cell_type": "code",
   "execution_count": 101,
   "metadata": {},
   "outputs": [
    {
     "ename": "SyntaxError",
     "evalue": "'return' outside function (<ipython-input-101-84c02739b869>, line 17)",
     "output_type": "error",
     "traceback": [
      "\u001b[1;36m  File \u001b[1;32m\"<ipython-input-101-84c02739b869>\"\u001b[1;36m, line \u001b[1;32m17\u001b[0m\n\u001b[1;33m    return True\u001b[0m\n\u001b[1;37m    ^\u001b[0m\n\u001b[1;31mSyntaxError\u001b[0m\u001b[1;31m:\u001b[0m 'return' outside function\n"
     ]
    }
   ],
   "source": [
    "# Search a 2D matrix\n",
    "# class Solution:\n",
    "#     def searchMatrix(self, matrix, target):\n",
    "matrix = [\n",
    "          [1,   4,  7, 11, 15],\n",
    "          [2,   5,  8, 12, 19],\n",
    "          [3,   6,  9, 16, 22],\n",
    "          [10, 13, 14, 17, 24],\n",
    "          [18, 21, 23, 26, 30]]\n",
    "if matrix:\n",
    "    r = 0\n",
    "    c = len(matrix)-1\n",
    "    \n",
    "    while r < len(matrix) and c >= 0:\n",
    "        val = matrix[r][c]\n",
    "        if val == target:\n",
    "            return True\n",
    "        \n",
    "        elif val > target:\n",
    "            c -= 1\n",
    "            \n",
    "        else:\n",
    "            r += 1\n",
    "            return False"
   ]
  },
  {
   "cell_type": "code",
   "execution_count": 99,
   "metadata": {},
   "outputs": [
    {
     "name": "stdout",
     "output_type": "stream",
     "text": [
      "Counter({'e': 4, 'l': 2, 'o': 2, 'v': 1, 't': 1, 'c': 1, 'd': 1})\n"
     ]
    },
    {
     "ename": "SyntaxError",
     "evalue": "'return' outside function (<ipython-input-99-73ffa93a04c5>, line 6)",
     "output_type": "error",
     "traceback": [
      "\u001b[1;36m  File \u001b[1;32m\"<ipython-input-99-73ffa93a04c5>\"\u001b[1;36m, line \u001b[1;32m6\u001b[0m\n\u001b[1;33m    return i\u001b[0m\n\u001b[1;37m    ^\u001b[0m\n\u001b[1;31mSyntaxError\u001b[0m\u001b[1;31m:\u001b[0m 'return' outside function\n"
     ]
    }
   ],
   "source": [
    "s = \"loveleetcode\"\n",
    "cs = Counter(s)\n",
    "        #print(cs) \n",
    "        # Counter({'e': 4, 'l': 2, 'o': 2, 'v': 1, 't': 1, 'c': 1, 'd': 1})\n",
    "for i, c in enumerate(s):\n",
    "    if cs.get(c, 0) == 1:\n",
    "        return i\n",
    "    return -1"
   ]
  },
  {
   "cell_type": "code",
   "execution_count": 4,
   "metadata": {},
   "outputs": [
    {
     "ename": "SyntaxError",
     "evalue": "'return' outside function (<ipython-input-4-a8456a3fb86d>, line 6)",
     "output_type": "error",
     "traceback": [
      "\u001b[1;36m  File \u001b[1;32m\"<ipython-input-4-a8456a3fb86d>\"\u001b[1;36m, line \u001b[1;32m6\u001b[0m\n\u001b[1;33m    return s\u001b[0m\n\u001b[1;37m    ^\u001b[0m\n\u001b[1;31mSyntaxError\u001b[0m\u001b[1;31m:\u001b[0m 'return' outside function\n"
     ]
    }
   ],
   "source": [
    "s = \"babad\"\n",
    "# 이게 유명한가 봅니다..;;\n",
    "# 공식도 있고 그 공식을 코드로 옮겨 놓은게 많았습니다\n",
    "# 보고 참고해서 작성 했습니다.\n",
    "if len(s) <= 1:\n",
    "    return s\n",
    "\n",
    "char = \"\"\n",
    "\n",
    "for i in range(len(s)): # 앞서부터\n",
    "    for j in range(len(s), 0, -1): # 뒤에서부터\n",
    "        if(len(char) >= j-i):\n",
    "            pass\n",
    "        elif s[i:j] == s[i:j][::-1]:\n",
    "            char = s[i:j]\n",
    "        return char\n",
    "    "
   ]
  },
  {
   "cell_type": "code",
   "execution_count": 5,
   "metadata": {},
   "outputs": [
    {
     "name": "stdout",
     "output_type": "stream",
     "text": [
      "bab\n",
      "bab\n",
      "bab\n",
      "bab\n",
      "bab\n",
      "bab\n",
      "bab\n",
      "bab\n",
      "bab\n",
      "bab\n",
      "bab\n",
      "bab\n",
      "bab\n",
      "bab\n",
      "bab\n",
      "bab\n",
      "bab\n",
      "bab\n",
      "bab\n",
      "bab\n",
      "bab\n",
      "bab\n"
     ]
    }
   ],
   "source": [
    "s = \"babad\"\n",
    "# 이게 유명한가 봅니다..;;\n",
    "# 공식도 있고 그 공식을 코드로 옮겨 놓은게 많았습니다\n",
    "# 보고 참고해서 작성 했습니다.\n",
    "if len(s) <= 1:\n",
    "    print(s)\n",
    "\n",
    "char = \"\"\n",
    "\n",
    "for i in range(len(s)): # 앞서부터\n",
    "    for j in range(len(s), 0, -1): # 뒤에서부터\n",
    "        if len(char) >= j-i:\n",
    "            pass\n",
    "        elif s[i:j] == s[i:j][::-1]:\n",
    "            char = s[i:j]\n",
    "            print(char)\n"
   ]
  },
  {
   "cell_type": "code",
   "execution_count": 14,
   "metadata": {},
   "outputs": [
    {
     "data": {
      "text/plain": [
       "'edcb'"
      ]
     },
     "execution_count": 14,
     "metadata": {},
     "output_type": "execute_result"
    }
   ],
   "source": [
    "s = \"abcde\"\n",
    "\n",
    "s[1:5][::-1]"
   ]
  },
  {
   "cell_type": "code",
   "execution_count": 61,
   "metadata": {},
   "outputs": [
    {
     "name": "stdout",
     "output_type": "stream",
     "text": [
      "4\n"
     ]
    }
   ],
   "source": [
    "nums = [100, 4, 200, 1, 3, 2]\n",
    "#print(i)\n",
    "nl = []\n",
    "nums.sort()\n",
    "#print(nums)\n",
    "\n",
    "\n",
    "for i in range(len(nums)):\n",
    "    for j in range(1,len(nums)):\n",
    "    #print(nums[i])\n",
    "        if(nums[i] + 1 == nums[j] or nums[j] == nums[i]-1):\n",
    "            #print(nums[i])\n",
    "            nl = nums[i]\n",
    "    #print(nl[i])\n",
    "    \n",
    "\n",
    "print(nl)"
   ]
  },
  {
   "cell_type": "code",
   "execution_count": 94,
   "metadata": {},
   "outputs": [
    {
     "name": "stdout",
     "output_type": "stream",
     "text": [
      "{'l': 1}\n",
      "{'l': 1, 'o': 1}\n",
      "{'l': 1, 'o': 1, 'v': 1}\n",
      "{'l': 1, 'o': 1, 'v': 1, 'e': 1}\n",
      "{'l': 2, 'o': 1, 'v': 1, 'e': 1}\n",
      "{'l': 2, 'o': 1, 'v': 1, 'e': 2}\n",
      "{'l': 2, 'o': 1, 'v': 1, 'e': 3}\n",
      "{'l': 2, 'o': 1, 'v': 1, 'e': 3, 't': 1}\n",
      "{'l': 2, 'o': 1, 'v': 1, 'e': 3, 't': 1, 'c': 1}\n",
      "{'l': 2, 'o': 2, 'v': 1, 'e': 3, 't': 1, 'c': 1}\n",
      "{'l': 2, 'o': 2, 'v': 1, 'e': 3, 't': 1, 'c': 1, 'd': 1}\n",
      "{'l': 2, 'o': 2, 'v': 1, 'e': 4, 't': 1, 'c': 1, 'd': 1}\n",
      "2\n",
      "7\n",
      "8\n",
      "10\n"
     ]
    }
   ],
   "source": [
    "\n",
    "    "
   ]
  },
  {
   "cell_type": "code",
   "execution_count": 93,
   "metadata": {},
   "outputs": [
    {
     "name": "stdout",
     "output_type": "stream",
     "text": [
      "Counter({'e': 4, 'l': 2, 'o': 2, 'v': 1, 't': 1, 'c': 1, 'd': 1})\n"
     ]
    }
   ],
   "source": [
    "\n"
   ]
  },
  {
   "cell_type": "code",
   "execution_count": 96,
   "metadata": {},
   "outputs": [
    {
     "ename": "IndentationError",
     "evalue": "unexpected indent (<ipython-input-96-2d4645bb4265>, line 2)",
     "output_type": "error",
     "traceback": [
      "\u001b[1;36m  File \u001b[1;32m\"<ipython-input-96-2d4645bb4265>\"\u001b[1;36m, line \u001b[1;32m2\u001b[0m\n\u001b[1;33m    for c in s:\u001b[0m\n\u001b[1;37m    ^\u001b[0m\n\u001b[1;31mIndentationError\u001b[0m\u001b[1;31m:\u001b[0m unexpected indent\n"
     ]
    }
   ],
   "source": []
  },
  {
   "cell_type": "code",
   "execution_count": null,
   "metadata": {},
   "outputs": [],
   "source": []
  }
 ],
 "metadata": {
  "kernelspec": {
   "display_name": "Python 3",
   "language": "python",
   "name": "python3"
  },
  "language_info": {
   "codemirror_mode": {
    "name": "ipython",
    "version": 3
   },
   "file_extension": ".py",
   "mimetype": "text/x-python",
   "name": "python",
   "nbconvert_exporter": "python",
   "pygments_lexer": "ipython3",
   "version": "3.6.8"
  }
 },
 "nbformat": 4,
 "nbformat_minor": 4
}
