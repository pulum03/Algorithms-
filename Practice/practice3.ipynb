{
 "cells": [
  {
   "cell_type": "code",
   "execution_count": 44,
   "metadata": {},
   "outputs": [
    {
     "name": "stdout",
     "output_type": "stream",
     "text": [
      "21\n"
     ]
    }
   ],
   "source": [
    "#70 : https://leetcode.com/problems/climbing-stairs/\n",
    "# 피보나치 수열\n",
    "#n = 13 # stairs\n",
    "#stairs(n):1, 2, 3, 4, 5,  6,  7, 8\n",
    "#increase:  1  1  2  3  5   5   6 \n",
    "#ways:    1, 2, 3, 5, 8, 13, 17, 23 \n",
    "n = 0\n",
    "\n",
    "def fibo(n):\n",
    "    #x = 1\n",
    "    #y = 2\n",
    "    #c = 0\n",
    "    x,y,c = 1,2,0\n",
    "    \n",
    "    if n == 0:\n",
    "        return 0\n",
    "    \n",
    "    while c < n-1:\n",
    "        c += 1\n",
    "            # x = y\n",
    "            # y = x+y\n",
    "        x, y = y, x+y\n",
    "        return x\n",
    "\n",
    "\n",
    "def fibo1(n):\n",
    "    dp = [1 for i in range(n+1)]\n",
    "    for i in range(2, n+1):\n",
    "        dp[i] = dp[i-1] + dp[i-2]\n",
    "    return dp[n]\n",
    "    \n",
    "\n",
    "        \n",
    "\n",
    "#print(fibo(7))\n",
    "#print(fibo1(7))"
   ]
  },
  {
   "cell_type": "code",
   "execution_count": 5,
   "metadata": {},
   "outputs": [
    {
     "name": "stdout",
     "output_type": "stream",
     "text": [
      "[419, 408, 186, 83]\n",
      "-1\n",
      "16\n"
     ]
    }
   ],
   "source": [
    "#322 : https://leetcode.com/problems/coin-change/\n",
    "#coins = [1,2,5]\n",
    "#amount = 11\n",
    "#out = 3\n",
    "\n",
    "#coins = [2]\n",
    "#amount = 3\n",
    "#out = -1\n",
    "\n",
    "coins = [186, 419, 83, 408]\n",
    "amount = 6249\n",
    "output = 20\n",
    "\n",
    "\n",
    "# 11 = 5*2 + 2*0 + 1*0\n",
    "\n",
    "# amount를 가장 높은 코인으로 우선 나눠서 뺸 후\n",
    "# 하나씩 차례로 뺀다\n",
    "# 나머지가 0일때까지\n",
    "# 만약 나머지가 0이상일 경우\n",
    "# -1로 리턴\n",
    "\n",
    "\n",
    "\n",
    "coins.sort(reverse = True) # 역정렬(내림차순)\n",
    "\n",
    "print(coins)\n",
    "\n",
    "#print(amount // coins[0])\n",
    "#print(amount % coins[0])\n",
    "\n",
    "# if amount is not None:\n",
    "#     ans = 0\n",
    "#     for i in range(len(coins)):\n",
    "#         quotient = amount // coins[i]\n",
    "#         amount = amount - (quotient * coins[i])\n",
    "#         ans += quotient\n",
    "#     if amount != 0:\n",
    "#         print(-1)\n",
    "#     print(ans)\n",
    "# else:\n",
    "#     pass\n",
    "\n",
    "\n",
    "\n",
    "if amount is not None:\n",
    "    ans = 0\n",
    "    while\n",
    "    \n",
    "    \n",
    "else:\n",
    "    pass"
   ]
  },
  {
   "cell_type": "code",
   "execution_count": 9,
   "metadata": {},
   "outputs": [],
   "source": [
    "# 289 : https://leetcode.com/problems/game-of-life/\n"
   ]
  },
  {
   "cell_type": "code",
   "execution_count": 90,
   "metadata": {},
   "outputs": [
    {
     "name": "stdout",
     "output_type": "stream",
     "text": [
      "[3, 3, 5, 5, 6, 7]\n"
     ]
    }
   ],
   "source": [
    "# 239 : https://leetcode.com/problems/sliding-window-maximum/\n",
    "\n",
    "# 빈리스트 하나 만들어서 \n",
    "# nums의 리스트가 k를 몇번 돌릴수있는지 알아내야함\n",
    "# 알아 낸 후, 매번의 i:i+k 가장 큰값 확인 후 rl리스트에 넣는다\n",
    "# rl 출력\n",
    "\n",
    "#nums = [1,3,-1,-3,5,3,6,7]\n",
    "#k = 3\n",
    "#out = [3,3,5,5,6,7]\n",
    "\n",
    "counts = len(nums) - k + 1\n",
    "\n",
    "rl = []\n",
    "\n",
    "if len(nums) < counts:\n",
    "    return nums\n",
    "else:\n",
    "    for i in range(counts):\n",
    "        rl.append(max(nums[i:i+k]))\n",
    "return rl"
   ]
  },
  {
   "cell_type": "code",
   "execution_count": 7,
   "metadata": {},
   "outputs": [
    {
     "name": "stdout",
     "output_type": "stream",
     "text": [
      "{186: 2, 419: 14, 83: 0, 408: 0}\n"
     ]
    }
   ],
   "source": [
    "def min_calc(value, coin):\n",
    "    a=[]\n",
    "    for i in coin:\n",
    "        a.append([value-i, i])\n",
    "    res = a[0]\n",
    "    for i in a:\n",
    "        if res[0] > i[0] and i[0] > 0:\n",
    "            res = i\n",
    "    return res\n",
    "    \n",
    "coin = [186, 419, 83, 408]\n",
    "value = [6249]\n",
    "dic = {}\n",
    "for i in coin:\n",
    "    dic[i] = 0\n",
    "    \n",
    "while True:\n",
    "    value = min_calc(value[0],coin)\n",
    "    if value[0] < 0:\n",
    "        break\n",
    "    else:\n",
    "        dic[value[1]] += 1\n",
    "\n",
    "print(dic)"
   ]
  },
  {
   "cell_type": "code",
   "execution_count": 4,
   "metadata": {},
   "outputs": [
    {
     "ename": "IndexError",
     "evalue": "list index out of range",
     "output_type": "error",
     "traceback": [
      "\u001b[1;31m---------------------------------------------------------------------------\u001b[0m",
      "\u001b[1;31mIndexError\u001b[0m                                Traceback (most recent call last)",
      "\u001b[1;32m<ipython-input-4-b7ec941b2061>\u001b[0m in \u001b[0;36m<module>\u001b[1;34m\u001b[0m\n\u001b[0;32m     10\u001b[0m     \u001b[1;32mfor\u001b[0m \u001b[0mj\u001b[0m \u001b[1;32min\u001b[0m \u001b[0mrange\u001b[0m\u001b[1;33m(\u001b[0m\u001b[0mvalue\u001b[0m\u001b[1;33m)\u001b[0m\u001b[1;33m:\u001b[0m\u001b[1;33m\u001b[0m\u001b[1;33m\u001b[0m\u001b[0m\n\u001b[0;32m     11\u001b[0m         \u001b[1;32mif\u001b[0m \u001b[0mj\u001b[0m \u001b[1;33m-\u001b[0m \u001b[0mmax\u001b[0m\u001b[1;33m(\u001b[0m\u001b[0mcoin\u001b[0m\u001b[1;33m)\u001b[0m \u001b[1;33m>=\u001b[0m \u001b[1;36m0\u001b[0m\u001b[1;33m:\u001b[0m\u001b[1;33m\u001b[0m\u001b[1;33m\u001b[0m\u001b[0m\n\u001b[1;32m---> 12\u001b[1;33m             \u001b[0mdp\u001b[0m\u001b[1;33m[\u001b[0m\u001b[0mj\u001b[0m\u001b[1;33m]\u001b[0m \u001b[1;33m+=\u001b[0m \u001b[0mdp\u001b[0m\u001b[1;33m[\u001b[0m\u001b[0mj\u001b[0m \u001b[1;33m-\u001b[0m \u001b[0mcoin\u001b[0m\u001b[1;33m[\u001b[0m\u001b[0mi\u001b[0m\u001b[1;33m]\u001b[0m\u001b[1;33m]\u001b[0m\u001b[1;33m\u001b[0m\u001b[1;33m\u001b[0m\u001b[0m\n\u001b[0m\u001b[0;32m     13\u001b[0m \u001b[0mprint\u001b[0m\u001b[1;33m(\u001b[0m\u001b[0mdp\u001b[0m\u001b[1;33m[\u001b[0m\u001b[0mk\u001b[0m\u001b[1;33m]\u001b[0m\u001b[1;33m)\u001b[0m\u001b[1;33m\u001b[0m\u001b[1;33m\u001b[0m\u001b[0m\n",
      "\u001b[1;31mIndexError\u001b[0m: list index out of range"
     ]
    }
   ],
   "source": [
    "coin = [186, 419, 83, 408]\n",
    "value = 6249\n",
    "\n",
    "for i  in range(len(coin)):\n",
    "    coin[i] + i\n",
    "    \n",
    "dp = []\n",
    "\n",
    "for i in range(len(coin)):\n",
    "    for j in range(value):\n",
    "        if j - max(coin) >= 0:\n",
    "            dp[j] += dp[j - coin[i]]\n",
    "print(dp[k])"
   ]
  },
  {
   "cell_type": "code",
   "execution_count": null,
   "metadata": {},
   "outputs": [],
   "source": []
  }
 ],
 "metadata": {
  "kernelspec": {
   "display_name": "Python 3",
   "language": "python",
   "name": "python3"
  },
  "language_info": {
   "codemirror_mode": {
    "name": "ipython",
    "version": 3
   },
   "file_extension": ".py",
   "mimetype": "text/x-python",
   "name": "python",
   "nbconvert_exporter": "python",
   "pygments_lexer": "ipython3",
   "version": "3.6.8"
  }
 },
 "nbformat": 4,
 "nbformat_minor": 4
}
