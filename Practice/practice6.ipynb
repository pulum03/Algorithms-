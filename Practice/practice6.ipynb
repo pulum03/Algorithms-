{
 "cells": [
  {
   "cell_type": "code",
   "execution_count": 114,
   "metadata": {},
   "outputs": [
    {
     "name": "stdout",
     "output_type": "stream",
     "text": [
      "eeeeaaarrd\n"
     ]
    }
   ],
   "source": [
    "#451. Sort Characters By Frequency\n",
    "\n",
    "# Given a string, sort it in decreasing order based on the frequency of characters.\n",
    "#Input:\n",
    "#s = \"tree\"\n",
    "\n",
    "#Output:\n",
    "#\"eert\"\n",
    "\n",
    "#Input:\n",
    "#s = \"cccaaa\"\n",
    "\n",
    "#Output:\n",
    "#\"cccaaa\"\n",
    "\n",
    "#Input:\n",
    "#s = \"Aabb\"\n",
    "\n",
    "#Output:\n",
    "#\"bbAa\"\n",
    "\n",
    "#Input:\n",
    "#s= \"raaeaedere\"\n",
    "\n",
    "#Output:\n",
    "#eeeeaaarrd\"\n",
    "import operator\n",
    "sl = list(s)\n",
    "sd = dict()\n",
    "\n",
    "for i in sl:\n",
    "    if i in sd:\n",
    "        sd[i] = sd[i] + 1\n",
    "    else:\n",
    "        sd[i] = 1\n",
    "\n",
    "sortedSd = sorted(sd.items(), key=operator.itemgetter(1), reverse = True)\n",
    "result = ''\n",
    "\n",
    "for item in sortedSd:\n",
    "    result += item[0]*item[1]\n",
    "    \n",
    "print(result)"
   ]
  },
  {
   "cell_type": "code",
   "execution_count": null,
   "metadata": {},
   "outputs": [],
   "source": [
    "# 437. Path Sum III\n",
    "\n",
    "# 맨 처음부터 시작 해서 왼 오른쪽으로 더하며 이동시 sum 값보다 작을 시 내려감\n",
    "# sum 값과 같으면 path\n",
    "# 그렇지 않으면 다음 노드로 이동 해서 반복\n",
    "\n",
    "# root = [10,5,-3,3,2,null,11,3,-2,null,1], sum = 8\n",
    "#       10\n",
    "#     /  \\\n",
    "#    5   -3\n",
    "#   / \\    \\\n",
    "#  3   2   11\n",
    "# / \\   \\\n",
    "#3  -2   1\n",
    "\n",
    "# Return 3. The paths that sum to 8 are:\n",
    "#1.  5 -> 3\n",
    "#2.  5 -> 2 -> 1\n",
    "#3. -3 -> 11\n",
    "\n"
   ]
  },
  {
   "cell_type": "code",
   "execution_count": 96,
   "metadata": {},
   "outputs": [
    {
     "name": "stdout",
     "output_type": "stream",
     "text": [
      "3\n"
     ]
    }
   ],
   "source": [
    "# 647. Palindromic Substrings\n",
    "\n",
    "# Input: \n",
    "#s = \"abc\"\n",
    "# Output: 3\n",
    "# Explanation: Three palindromic strings: \"a\", \"b\", \"c\".\n",
    "\n",
    "# Input:\n",
    "#s = \"aaa\"\n",
    "# Output: 6\n",
    "# Explanation: Six palindromic strings: \"a\", \"a\", \"a\", \"aa\", \"aa\", \"aaa\".\n",
    "\n",
    "# Input:\n",
    "#s = \"fdsklf\"\n",
    "# Output: 6\n",
    "\n",
    "# Input:\n",
    "#s = \"aba\"\n",
    "# Output: 4\n",
    "\n",
    "# input :\n",
    "#s= \"leetcode\"\n",
    "# output: 9\n",
    "\n",
    "s = list(s)\n",
    "sl = len(s)\n",
    "centre = 2*sl -1\n",
    "ans = 0\n",
    "\n",
    "for c in range(centre):\n",
    "    l = int(c /2) \n",
    "    r = int(l + c %2)\n",
    "    while l >= 0 and r < sl and s[l] == s[r]:\n",
    "        ans += 1\n",
    "        l -= 1\n",
    "        r += 1\n",
    "\n",
    "print(ans)\n"
   ]
  },
  {
   "cell_type": "code",
   "execution_count": 51,
   "metadata": {},
   "outputs": [
    {
     "name": "stdout",
     "output_type": "stream",
     "text": [
      "['A', 'D', 'O', 'B', 'E', 'C', 'O', 'D', 'E', 'B', 'A', 'N', 'C']\n",
      "['A', 'B', 'C']\n",
      "A\n",
      "B\n",
      "C\n"
     ]
    },
    {
     "ename": "IndexError",
     "evalue": "list index out of range",
     "output_type": "error",
     "traceback": [
      "\u001b[1;31m---------------------------------------------------------------------------\u001b[0m",
      "\u001b[1;31mIndexError\u001b[0m                                Traceback (most recent call last)",
      "\u001b[1;32m<ipython-input-51-53c05bbe4262>\u001b[0m in \u001b[0;36m<module>\u001b[1;34m\u001b[0m\n\u001b[0;32m     20\u001b[0m     \u001b[1;31m# 만약\u001b[0m\u001b[1;33m\u001b[0m\u001b[1;33m\u001b[0m\u001b[1;33m\u001b[0m\u001b[0m\n\u001b[0;32m     21\u001b[0m     \u001b[1;32mfor\u001b[0m \u001b[0mi\u001b[0m \u001b[1;32min\u001b[0m \u001b[0mrange\u001b[0m\u001b[1;33m(\u001b[0m\u001b[0mlen\u001b[0m\u001b[1;33m(\u001b[0m\u001b[0msl\u001b[0m\u001b[1;33m[\u001b[0m\u001b[0ms\u001b[0m\u001b[1;33m:\u001b[0m\u001b[0me\u001b[0m\u001b[1;33m]\u001b[0m\u001b[1;33m)\u001b[0m\u001b[1;33m)\u001b[0m\u001b[1;33m:\u001b[0m\u001b[1;33m\u001b[0m\u001b[1;33m\u001b[0m\u001b[0m\n\u001b[1;32m---> 22\u001b[1;33m         \u001b[1;32mif\u001b[0m \u001b[0mtl\u001b[0m\u001b[1;33m[\u001b[0m\u001b[0mi\u001b[0m\u001b[1;33m]\u001b[0m \u001b[1;32min\u001b[0m \u001b[0msl\u001b[0m\u001b[1;33m[\u001b[0m\u001b[0ms\u001b[0m\u001b[1;33m:\u001b[0m\u001b[0me\u001b[0m\u001b[1;33m]\u001b[0m\u001b[1;33m:\u001b[0m\u001b[1;33m\u001b[0m\u001b[1;33m\u001b[0m\u001b[0m\n\u001b[0m\u001b[0;32m     23\u001b[0m         \u001b[1;31m# 만약 발견된 값이 앞이랑 가까울 경우 s + 1\u001b[0m\u001b[1;33m\u001b[0m\u001b[1;33m\u001b[0m\u001b[1;33m\u001b[0m\u001b[0m\n\u001b[0;32m     24\u001b[0m         \u001b[1;31m# 만약 발견 값이 뒤랑 가까울 경우 e - 1\u001b[0m\u001b[1;33m\u001b[0m\u001b[1;33m\u001b[0m\u001b[1;33m\u001b[0m\u001b[0m\n",
      "\u001b[1;31mIndexError\u001b[0m: list index out of range"
     ]
    }
   ],
   "source": [
    "# 76. Minimum Window Substring\n",
    "# the characters in T in complexity O(n).\n",
    "\n",
    "# Input: \n",
    "S = \"ADOBECODEBANC\"\n",
    "T = \"ABC\"\n",
    "\n",
    "# Output: \"BANC\"\n",
    "\n",
    "sl = list(S)\n",
    "tl = list(T)\n",
    "print(sl)\n",
    "print(tl)\n",
    "\n",
    "s = 0\n",
    "e = len(S)\n",
    "\n",
    "while s != e:\n",
    "    #print(sl[i])\n",
    "    # 만약\n",
    "    for i in range(len(sl[s:e])):\n",
    "        if tl[i] in sl[s:e]:\n",
    "        # 만약 발견된 값이 앞이랑 가까울 경우 s + 1\n",
    "        # 만약 발견 값이 뒤랑 가까울 경우 e - 1\n",
    "        # 같을 경우, s+1, e-1\n",
    "            print(tl[i])\n",
    "            s = s + 1\n",
    "            e = e - 1"
   ]
  },
  {
   "cell_type": "code",
   "execution_count": null,
   "metadata": {},
   "outputs": [],
   "source": []
  }
 ],
 "metadata": {
  "kernelspec": {
   "display_name": "Python 3",
   "language": "python",
   "name": "python3"
  },
  "language_info": {
   "codemirror_mode": {
    "name": "ipython",
    "version": 3
   },
   "file_extension": ".py",
   "mimetype": "text/x-python",
   "name": "python",
   "nbconvert_exporter": "python",
   "pygments_lexer": "ipython3",
   "version": "3.6.8"
  }
 },
 "nbformat": 4,
 "nbformat_minor": 4
}
