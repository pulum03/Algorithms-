{
 "cells": [
  {
   "cell_type": "code",
   "execution_count": null,
   "metadata": {},
   "outputs": [],
   "source": [
    "# 53. Maximum Subarray\n",
    "nums = [-2,1,-3,4,-1,2,1,-5,4]\n",
    "# Output: 6\n",
    "\n",
    "#nums = [1]\n",
    "# Output: 1\n",
    "\n",
    "#nums = [-2,1]\n",
    "# Output: 1\n",
    "\n",
    "#nums = [-2,-1]\n",
    "# Output: -1\n",
    "\n",
    "cur = -10000\n",
    "if len(nums) != 1:\n",
    "    maxsum = nums[0]\n",
    "    #print(cur)\n",
    "    #print(maxsum)\n",
    "    for i in range(len(nums)):\n",
    "        for j in range(len(nums)):\n",
    "            cur = sum(nums[i:j])\n",
    "            maxsum += nums[j]\n",
    "            cur = max(cur,maxsum)\n",
    "    print(cur)\n",
    "else:\n",
    "    print(nums[0])"
   ]
  },
  {
   "cell_type": "code",
   "execution_count": null,
   "metadata": {},
   "outputs": [],
   "source": [
    "# 53. Maximum Subarray\n",
    "#nums = [-2,1,-3,4,-1,2,1,-5,4]\n",
    "# Output: 6\n",
    "\n",
    "#nums = [1]\n",
    "# Output: 1\n",
    "\n",
    "#nums = [-2,1]\n",
    "# Output: 1\n",
    "\n",
    "#nums = [-2,-1]\n",
    "# Output: 1\n",
    "\n",
    "curSum = 0\n",
    "maxSum = -1\n",
    "        \n",
    "for i in range(len(nums)):\n",
    "    if curSum < 0: \n",
    "        curSum = 0\n",
    "    curSum += nums[i]\n",
    "    maxSum = max(curSum,maxSum)\n",
    "\n",
    "print(maxSum)"
   ]
  },
  {
   "cell_type": "code",
   "execution_count": null,
   "metadata": {},
   "outputs": [],
   "source": [
    "# 215. Kth Largest Element in an Array\n",
    "#nums = [3,2,1,5,6,4]\n",
    "#k = 2\n",
    "# Output: 5\n",
    "\n",
    "#nums = [3,2,3,1,2,4,5,5,6]\n",
    "#k = 4\n",
    "# Output: 4\n",
    "\n",
    "sortedNums = sorted(nums, reverse=True)\n",
    "print(sortedNums[k-1])"
   ]
  },
  {
   "cell_type": "code",
   "execution_count": null,
   "metadata": {},
   "outputs": [],
   "source": [
    "import random\n",
    "# 767. Reorganize String\n",
    "#S = \"aab\"\n",
    "# Output: \"aba\"\n",
    "\n",
    "#S = \"aaab\"\n",
    "# Output: \"\"\n",
    "\n",
    "S = \"vvvol\"\n",
    "# Output: vlvov\n",
    "\n",
    "print(S)\n",
    "print(len(S))\n",
    "\n",
    "while True:\n",
    "    if len(S) % 2 == 1:\n",
    "        randS = random.sample(S, len(S))\n",
    "        \n",
    "        if ''.join(randS) != S[::-1] and ''.join(randS) != S:\n",
    "            ans = ''.join(randS)\n",
    "            break\n",
    "            \n",
    "        else:\n",
    "            ans = \"\"\n",
    "            break\n",
    "            \n",
    "    elif len(S) % 2 == 0:\n",
    "        ans = \"\"\n",
    "        break\n",
    "        \n",
    "print(ans)"
   ]
  },
  {
   "cell_type": "code",
   "execution_count": 119,
   "metadata": {},
   "outputs": [
    {
     "name": "stdout",
     "output_type": "stream",
     "text": [
      "vol\n",
      "v\n",
      "v\n",
      "3\n",
      "vol\n",
      "----------\n"
     ]
    },
    {
     "ename": "IndexError",
     "evalue": "string index out of range",
     "output_type": "error",
     "traceback": [
      "\u001b[1;31m---------------------------------------------------------------------------\u001b[0m",
      "\u001b[1;31mIndexError\u001b[0m                                Traceback (most recent call last)",
      "\u001b[1;32m<ipython-input-119-32a3dd18534c>\u001b[0m in \u001b[0;36m<module>\u001b[1;34m\u001b[0m\n\u001b[0;32m     43\u001b[0m \u001b[1;33m\u001b[0m\u001b[0m\n\u001b[0;32m     44\u001b[0m \u001b[1;32mfor\u001b[0m \u001b[0mi\u001b[0m \u001b[1;32min\u001b[0m \u001b[0mrange\u001b[0m\u001b[1;33m(\u001b[0m\u001b[0msortedSd\u001b[0m\u001b[1;33m[\u001b[0m\u001b[1;36m0\u001b[0m\u001b[1;33m]\u001b[0m\u001b[1;33m[\u001b[0m\u001b[1;36m1\u001b[0m\u001b[1;33m]\u001b[0m\u001b[1;33m-\u001b[0m\u001b[1;36m1\u001b[0m\u001b[1;33m)\u001b[0m\u001b[1;33m:\u001b[0m \u001b[1;31m# 1, 2\u001b[0m\u001b[1;33m\u001b[0m\u001b[1;33m\u001b[0m\u001b[0m\n\u001b[1;32m---> 45\u001b[1;33m     \u001b[0mres\u001b[0m \u001b[1;33m=\u001b[0m \u001b[0mans\u001b[0m\u001b[1;33m[\u001b[0m\u001b[1;36m1\u001b[0m\u001b[1;33m:\u001b[0m\u001b[1;33m:\u001b[0m\u001b[1;36m2\u001b[0m\u001b[1;33m]\u001b[0m\u001b[1;33m[\u001b[0m\u001b[0mi\u001b[0m\u001b[1;33m]\u001b[0m \u001b[1;33m+\u001b[0m \u001b[0msortedSd\u001b[0m\u001b[1;33m[\u001b[0m\u001b[1;36m0\u001b[0m\u001b[1;33m]\u001b[0m\u001b[1;33m[\u001b[0m\u001b[1;36m0\u001b[0m\u001b[1;33m]\u001b[0m\u001b[1;33m\u001b[0m\u001b[1;33m\u001b[0m\u001b[0m\n\u001b[0m\u001b[0;32m     46\u001b[0m \u001b[1;33m\u001b[0m\u001b[0m\n\u001b[0;32m     47\u001b[0m \u001b[0mprint\u001b[0m\u001b[1;33m(\u001b[0m\u001b[0mres\u001b[0m\u001b[1;33m)\u001b[0m\u001b[1;33m\u001b[0m\u001b[1;33m\u001b[0m\u001b[0m\n",
      "\u001b[1;31mIndexError\u001b[0m: string index out of range"
     ]
    }
   ],
   "source": [
    "import operator\n",
    "a=\"12\"\n",
    "a.join(\"abcd\")    # 'a12b12c12d'\n",
    "\n",
    "#S = \"aab\"\n",
    "# Output: \"aba\"\n",
    "\n",
    "#S = \"aaab\"\n",
    "# Output: \"\"\n",
    "\n",
    "S = \"vvvol\"\n",
    "# Output: vlvov\n",
    "\n",
    "\n",
    "sl = list(S)\n",
    "sd = dict()\n",
    "for i in sl:\n",
    "    if i in sd:\n",
    "        sd[i] = sd[i] + 1\n",
    "    else:\n",
    "        sd[i] = 1\n",
    "\n",
    "sortedSd = sorted(sd.items(), key=operator.itemgetter(1), reverse = True)\n",
    "result = ''\n",
    "\n",
    "for item in sortedSd:\n",
    "    result += item[0]*item[1]    \n",
    "\n",
    "ans = ''.join(list(set(result)))\n",
    "#            v   o v l v \n",
    "print(ans) # v   o   l\n",
    "#            0 1 2 3 4 5\n",
    "#            0   1   2\n",
    "print(ans[0]) # v\n",
    "print(sortedSd[0][0]) # v\n",
    "print(sortedSd[0][1]) # 3\n",
    "\n",
    "print(ans)\n",
    "\n",
    "print('----------')\n",
    "# for i in range(2, sortedSd[0][1]): # 1, 2\n",
    "#     ans = ans[:i] + sortedSd[0][0] + ans[i:]\n",
    "\n",
    "for i in range(sortedSd[0][1]-1): # 1, 2\n",
    "    res = ans[1::2][i] + sortedSd[0][0]\n",
    "    \n",
    "print(res)\n",
    "#print(sortedSd[0][1]) "
   ]
  },
  {
   "cell_type": "code",
   "execution_count": 84,
   "metadata": {},
   "outputs": [
    {
     "name": "stdout",
     "output_type": "stream",
     "text": [
      "d\n",
      "BCDEFGHIJKi\n"
     ]
    }
   ],
   "source": [
    "txt = 'aAbBcCdDeEfFgGhHiIjJkK'\n",
    "ret = txt[2::2][2]\n",
    "print(ret)\n",
    "\n",
    "for i in range(2,4):\n",
    "    ret = txt[i::2] + 'i'\n",
    "print(ret)"
   ]
  },
  {
   "cell_type": "code",
   "execution_count": 111,
   "metadata": {},
   "outputs": [
    {
     "ename": "IndentationError",
     "evalue": "unexpected indent (<ipython-input-111-b8fd2638a8f5>, line 12)",
     "output_type": "error",
     "traceback": [
      "\u001b[1;36m  File \u001b[1;32m\"<ipython-input-111-b8fd2638a8f5>\"\u001b[1;36m, line \u001b[1;32m12\u001b[0m\n\u001b[1;33m    for i, f in counter.most_common():\u001b[0m\n\u001b[1;37m    ^\u001b[0m\n\u001b[1;31mIndentationError\u001b[0m\u001b[1;31m:\u001b[0m unexpected indent\n"
     ]
    }
   ],
   "source": [
    "from collections import Counter\n",
    "S = \"aab\"\n",
    "# Output: \"aba\"\n",
    "\n",
    "#S = \"aaab\"\n",
    "# Output: \"\"\n",
    "\n",
    "counter = Counter(S)\n",
    "ans = '#'\n",
    "\n",
    "    for i, f in counter.most_common():\n",
    "        if ans[-1] != i:\n",
    "            ans += i\n",
    "            counter[i] -= 1\n",
    "            if not counter[i]:\n",
    "                del counter[i]\n",
    "            break\n",
    "            \n",
    "    if len(ans) == len(S):\n",
    "        print(ans[1:])\n",
    "    else:\n",
    "        print(\"  \")\n"
   ]
  },
  {
   "cell_type": "code",
   "execution_count": 118,
   "metadata": {},
   "outputs": [
    {
     "name": "stdout",
     "output_type": "stream",
     "text": [
      "  \n"
     ]
    }
   ],
   "source": [
    "import collections\n",
    "#from collections import Counter\n",
    "S = \"aab\"\n",
    "# Output: \"aba\"\n",
    "\n",
    "#S = \"aaab\"\n",
    "# Output: \"\"\n",
    "\n",
    "counter = collections.Counter(S)\n",
    "ans = \"#\"\n",
    "while counter:\n",
    "    stop = True\n",
    "    for item, times in counter.most_common():\n",
    "        if ans[-1] != item:\n",
    "            ans += item\n",
    "            counter[item] -= 1\n",
    "            if not counter[item]:\n",
    "                del counter[item]\n",
    "            stop = False\n",
    "            break\n",
    "            \n",
    "    if stop: break\n",
    "        \n",
    "if len(ans) == len(S):\n",
    "    print(ans[1:])\n",
    "else:\n",
    "    print(\"  \")"
   ]
  },
  {
   "cell_type": "code",
   "execution_count": null,
   "metadata": {},
   "outputs": [],
   "source": [
    "S = \"aab\"\n",
    "# Output: \"aba\"\n",
    "\n",
    "#S = \"aaab\"\n",
    "# Output: \"\"\n",
    "\n",
    "counter=Counter(S)\n",
    "c=counter.most_common()\n",
    "max_fre=c[0][1]\n",
    "res=\"\"\n",
    "if max_fre>len(S)-max_fre+1:\n",
    "    print(res) \n",
    "while counter:\n",
    "    out=counter.most_common(2)\n",
    "    if out:\n",
    "        res+=out[0][0] # a\n",
    "        counter[out[0][0]]-=1\n",
    "    if len(out)>1:\n",
    "        res+=out[1][0]\n",
    "        counter[out[1][0]]-=1\n",
    "        counter+=Counter()\n",
    "print(res)"
   ]
  },
  {
   "cell_type": "code",
   "execution_count": 120,
   "metadata": {},
   "outputs": [
    {
     "name": "stdout",
     "output_type": "stream",
     "text": [
      "Counter({'a': 3, 'b': 1})\n",
      "[('a', 3), ('b', 1)]\n",
      "[('a', 3)]\n",
      "[('a', 3), ('b', 1)]\n",
      "2\n",
      "a\n"
     ]
    },
    {
     "ename": "NameError",
     "evalue": "name 'out' is not defined",
     "output_type": "error",
     "traceback": [
      "\u001b[1;31m---------------------------------------------------------------------------\u001b[0m",
      "\u001b[1;31mNameError\u001b[0m                                 Traceback (most recent call last)",
      "\u001b[1;32m<ipython-input-120-cb342049a80c>\u001b[0m in \u001b[0;36m<module>\u001b[1;34m\u001b[0m\n\u001b[0;32m     17\u001b[0m \u001b[1;33m\u001b[0m\u001b[0m\n\u001b[0;32m     18\u001b[0m \u001b[0mprint\u001b[0m\u001b[1;33m(\u001b[0m\u001b[0mc2\u001b[0m\u001b[1;33m[\u001b[0m\u001b[1;36m0\u001b[0m\u001b[1;33m]\u001b[0m\u001b[1;33m[\u001b[0m\u001b[1;36m0\u001b[0m\u001b[1;33m]\u001b[0m\u001b[1;33m)\u001b[0m\u001b[1;33m\u001b[0m\u001b[1;33m\u001b[0m\u001b[0m\n\u001b[1;32m---> 19\u001b[1;33m \u001b[0mprint\u001b[0m\u001b[1;33m(\u001b[0m\u001b[0mcounter\u001b[0m\u001b[1;33m[\u001b[0m\u001b[0mout\u001b[0m\u001b[1;33m[\u001b[0m\u001b[1;36m0\u001b[0m\u001b[1;33m]\u001b[0m\u001b[1;33m[\u001b[0m\u001b[1;36m0\u001b[0m\u001b[1;33m]\u001b[0m\u001b[1;33m]\u001b[0m\u001b[1;33m)\u001b[0m\u001b[1;33m\u001b[0m\u001b[1;33m\u001b[0m\u001b[0m\n\u001b[0m",
      "\u001b[1;31mNameError\u001b[0m: name 'out' is not defined"
     ]
    }
   ],
   "source": [
    "#S = \"aab\"\n",
    "# Output: \"aba\"\n",
    "\n",
    "S = \"aaab\"\n",
    "# Output: \"\"\n",
    "\n",
    "counter = Counter(S)\n",
    "c = counter.most_common()\n",
    "c1 = counter.most_common(1)\n",
    "c2 = counter.most_common(2)\n",
    "\n",
    "print(counter)\n",
    "print(c)\n",
    "print(c1)\n",
    "print(c2)\n",
    "print(len(counter))\n",
    "\n",
    "print(c2[0][0])\n",
    "print(counter[out[0][0]])"
   ]
  },
  {
   "cell_type": "code",
   "execution_count": 6,
   "metadata": {},
   "outputs": [
    {
     "name": "stdout",
     "output_type": "stream",
     "text": [
      "2\n"
     ]
    }
   ],
   "source": [
    "# 1035. Uncrossed Lines\n",
    "#A = [1,4,2] ; B = [1,2,4]\n",
    "# output = 2\n",
    "\n",
    "#A = [2,5,1,2,5] ; B = [10,5,2,1,5,2]\n",
    "# Output: 3\n",
    "\n",
    "#A = [1,3,7,1,7,5] ; B = [1,9,2,5,1]\n",
    "# Output: 2\n",
    "\n",
    "dp = [[0] * (len(B) + 1) for _ in range(len(A) + 1)]\n",
    "for i in range(len(A)):\n",
    "    for j in range(len(B)):\n",
    "        dp[i + 1][j + 1] = max(dp[i][j + 1], dp[i + 1][j], dp[i][j] + (A[i] == B[j]))\n",
    "print(dp[-1][-1])\n"
   ]
  },
  {
   "cell_type": "code",
   "execution_count": 10,
   "metadata": {},
   "outputs": [
    {
     "name": "stdout",
     "output_type": "stream",
     "text": [
      "3\n",
      "3\n",
      "[[0, 0, 0, 0], [0, 0, 0, 0], [0, 0, 0, 0], [0, 0, 0, 0]]\n"
     ]
    }
   ],
   "source": [
    "A = [1,4,2]\n",
    "B = [1,2,4]\n",
    "\n",
    "print(len(A)) # 3\n",
    "print(len(B)) # 3\n",
    "\n",
    "dp = [[0] * (len(B) + 1) for _ in range(len(A) + 1)]\n",
    "print(dp)"
   ]
  },
  {
   "cell_type": "code",
   "execution_count": 23,
   "metadata": {},
   "outputs": [
    {
     "name": "stdout",
     "output_type": "stream",
     "text": [
      "1\n",
      "1\n",
      "2\n"
     ]
    }
   ],
   "source": [
    "print(dp[1][1])\n",
    "print(dp[2][2])\n",
    "print(dp[3][3])\n",
    "\n",
    "\n",
    "for i in range(len(A)): # 3      0  1  2 \n",
    "    for j in range(len(B)): # 3  0  1  2 \n",
    "        dp[i + 1][j + 1] = max(dp[i][j + 1], dp[i + 1][j], dp[i][j] + (A[i] == B[j]))"
   ]
  },
  {
   "cell_type": "code",
   "execution_count": 24,
   "metadata": {},
   "outputs": [
    {
     "name": "stdout",
     "output_type": "stream",
     "text": [
      "3\n",
      "3\n",
      "2\n"
     ]
    }
   ],
   "source": [
    "A = [1,4,2]\n",
    "B = [1,2,4]\n",
    "\n",
    "print(len(A)) # 3\n",
    "print(len(B)) # 3\n",
    "\n",
    "dp = [[0] * (len(B) + 1) for _ in range(len(A) + 1)]\n",
    "\n",
    "for ia in range(len(A))[::-1]:\n",
    "    for ib in range(len(B))[::-1]:\n",
    "        dp[ia][ib] = max(dp[ia + 1][ib], dp[ia][ib + 1], dp[ia + 1][ib + 1] + (A[ia] == B[ib]))\n",
    "\n",
    "print(dp[0][0])"
   ]
  }
 ],
 "metadata": {
  "kernelspec": {
   "display_name": "Python 3",
   "language": "python",
   "name": "python3"
  },
  "language_info": {
   "codemirror_mode": {
    "name": "ipython",
    "version": 3
   },
   "file_extension": ".py",
   "mimetype": "text/x-python",
   "name": "python",
   "nbconvert_exporter": "python",
   "pygments_lexer": "ipython3",
   "version": "3.6.8"
  }
 },
 "nbformat": 4,
 "nbformat_minor": 4
}
