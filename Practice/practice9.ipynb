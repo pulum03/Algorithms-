{
 "cells": [
  {
   "cell_type": "code",
   "execution_count": 10,
   "metadata": {},
   "outputs": [
    {
     "name": "stdout",
     "output_type": "stream",
     "text": [
      "26\n",
      "701\n"
     ]
    }
   ],
   "source": [
    "# 171. Excel Sheet Column Number\n",
    "#s = \"A\"\n",
    "#output = 1\n",
    "\n",
    "#s = \"AB\"\n",
    "#output = 28\n",
    "\n",
    "s = \"ZY\"\n",
    "#output = 701\n",
    "\n",
    "# for i in s:\n",
    "#     print(ord(i)-64)\n",
    "    \n",
    "sum = 0\n",
    "\n",
    "for i in s:\n",
    "    sum = sum*26 + ord(i)-64\n",
    "    print(sum)\n",
    "    \n",
    "    \n"
   ]
  },
  {
   "cell_type": "code",
   "execution_count": 38,
   "metadata": {},
   "outputs": [],
   "source": [
    "# 131. palindrome partitioning\n",
    "s = \"aabaaabcba\"\n",
    "\n",
    "# output =\n",
    "#  [\n",
    "#    [\"aa\",\"b\"],\n",
    "#    [\"a\",\"a\",\"b\"]\n",
    "#  ]\n",
    "def partition(s):\n",
    "        if not s:\n",
    "            return [[]]\n",
    "        \n",
    "        result = []\n",
    "        \n",
    "        for i in range(len(s)):\n",
    "            if isPalindrome(s[ : i+1]):\n",
    "                print(partition(s[i+1 : ]))\n",
    "                for r in partition(s[i+1 : ]):\n",
    "#                     print(r)\n",
    "                    result.append([s[ : i+1]] + r)\n",
    "        return result\n",
    "\n",
    "def isPalindrome(s):\n",
    "        return s == s[::-1]"
   ]
  },
  {
   "cell_type": "code",
   "execution_count": null,
   "metadata": {},
   "outputs": [],
   "source": [
    "partition(s)"
   ]
  },
  {
   "cell_type": "code",
   "execution_count": 29,
   "metadata": {},
   "outputs": [],
   "source": [
    "s = \"aab\"\n",
    "\n",
    "def partition(self, s):\n",
    "    def dfs(s, path, res):\n",
    "        if not s:\n",
    "            res.append(path)\n",
    "            return\n",
    "        \n",
    "        for i in range(len(s)):\n",
    "            if isPal(s[:i+1]):\n",
    "                dfs(s[i+1:], path+[s[:+1]], res)\n",
    "                \n",
    "    def isPal(s):\n",
    "        return s == s[::-1]\n",
    "    \n",
    "    res = []\n",
    "    dfs(s,[],res)\n",
    "    return res\n",
    "    "
   ]
  },
  {
   "cell_type": "code",
   "execution_count": 13,
   "metadata": {},
   "outputs": [],
   "source": [
    "# 207. Course Schedule\n"
   ]
  },
  {
   "cell_type": "code",
   "execution_count": 56,
   "metadata": {},
   "outputs": [],
   "source": [
    "from collections import defaultdict\n",
    "def dfs(node, graph, visited):\n",
    "\n",
    "\t\t# 더 이상 node 를 선수로 한 방문 노드가 없을 때\n",
    "        if node not in graph:\n",
    "            return True\n",
    "\n",
    "        for n in graph[node]:\n",
    "        \t# 이미 방문 중인 노드라면\n",
    "            # 해당 노드의 완료 여부를 리턴\n",
    "            if n in visited:\n",
    "                return visited[n] == 2\n",
    "            # 노드를 방문 중인 상태로 변경\n",
    "            visited[n] = 1\n",
    "            if not dfs(n, graph, visited):\n",
    "                return False\n",
    "            # 노드를 완료로 변경\n",
    "            visited[n] = 2\n",
    "\n",
    "        return True\n",
    "\n",
    "def canFinish(numCourses, prerequisites):\n",
    "        graph = defaultdict(list)\n",
    "\n",
    "        for p in prerequisites:\n",
    "            graph[p[1]].append(p[0])\n",
    "\n",
    "        visited = defaultdict(int)\n",
    "        print(visited)\n",
    "        for node in graph:\n",
    "            print(node)\n",
    "            visited[node] = 1\n",
    "            if not dfs(node, graph, visited):\n",
    "                return False\n",
    "            visited[node] = 2\n",
    "\n",
    "        return True\n"
   ]
  },
  {
   "cell_type": "code",
   "execution_count": 57,
   "metadata": {},
   "outputs": [
    {
     "name": "stdout",
     "output_type": "stream",
     "text": [
      "defaultdict(<class 'int'>, {})\n",
      "0\n",
      "1\n",
      "2\n"
     ]
    },
    {
     "data": {
      "text/plain": [
       "True"
      ]
     },
     "execution_count": 57,
     "metadata": {},
     "output_type": "execute_result"
    }
   ],
   "source": [
    "canFinish(4, [[1,0],[2,1],[3,2]])"
   ]
  },
  {
   "cell_type": "code",
   "execution_count": null,
   "metadata": {},
   "outputs": [],
   "source": [
    "class Solution:\n",
    "    # @param {integer} numCourses\n",
    "    # @param {integer[][]} prerequisites\n",
    "    # @return {boolean}\n",
    "    def canFinish(self, numCourses, prerequisites):\n",
    "        degrees = [0] * numCourses\n",
    "        childs = [[] for x in range(numCourses)]\n",
    "        for pair in prerequisites:\n",
    "            degrees[pair[0]] += 1\n",
    "            childs[pair[1]].append(pair[0])\n",
    "        courses = set(range(numCourses))\n",
    "        flag = True\n",
    "        while flag and len(courses):\n",
    "            flag = False\n",
    "            removeList = []\n",
    "            for x in courses:\n",
    "                if degrees[x] == 0:\n",
    "                    for child in childs[x]:\n",
    "                        degrees[child] -= 1\n",
    "                    removeList.append(x)\n",
    "                    flag = True\n",
    "            for x in removeList:\n",
    "                courses.remove(x)\n",
    "        return len(courses) == 0"
   ]
  },
  {
   "cell_type": "code",
   "execution_count": null,
   "metadata": {},
   "outputs": [],
   "source": [
    "# 127. Word Ladder\n"
   ]
  }
 ],
 "metadata": {
  "kernelspec": {
   "display_name": "Python 3",
   "language": "python",
   "name": "python3"
  },
  "language_info": {
   "codemirror_mode": {
    "name": "ipython",
    "version": 3
   },
   "file_extension": ".py",
   "mimetype": "text/x-python",
   "name": "python",
   "nbconvert_exporter": "python",
   "pygments_lexer": "ipython3",
   "version": "3.6.8"
  }
 },
 "nbformat": 4,
 "nbformat_minor": 4
}
